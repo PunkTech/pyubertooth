{
 "cells": [
  {
   "cell_type": "code",
   "execution_count": null,
   "metadata": {
    "collapsed": true
   },
   "outputs": [],
   "source": [
    "import usb.core\n",
    "import struct"
   ]
  },
  {
   "cell_type": "code",
   "execution_count": null,
   "metadata": {
    "collapsed": true
   },
   "outputs": [],
   "source": [
    "device = usb.core.find(idVendor=0x1D50, idProduct=0x6002)\n",
    "device.default_timeout=3000\n",
    "device.set_configuration()"
   ]
  },
  {
   "cell_type": "code",
   "execution_count": null,
   "metadata": {
    "collapsed": true
   },
   "outputs": [],
   "source": [
    "#trim clock\n",
    "#line 65 ubertooth_control.c\n",
    "#THIS IS AN UBERTOOTH ASYNC COMMAND"
   ]
  },
  {
   "cell_type": "code",
   "execution_count": null,
   "metadata": {
    "collapsed": true
   },
   "outputs": [],
   "source": [
    "# cmd ping \n",
    "#line 75 ubertooth_control.c\n",
    "result = device.ctrl_transfer(0xc0,0,0, 0,0)"
   ]
  },
  {
   "cell_type": "code",
   "execution_count": null,
   "metadata": {
    "collapsed": true
   },
   "outputs": [],
   "source": [
    "#set rx mode\n",
    "#line 88 ubertooth_control.c\n",
    "device.ctrl_transfer(0x40,1,0,0)"
   ]
  },
  {
   "cell_type": "code",
   "execution_count": null,
   "metadata": {
    "collapsed": false
   },
   "outputs": [],
   "source": [
    "#specan where low_freq & high_freq is 2402-2480\n",
    "#line 101 ubertooth_control.c\n",
    "low_freq = 2402\n",
    "high_freq = 2480\n",
    "device.ctrl_transfer(0x40,27,low_freq,high_freq)"
   ]
  },
  {
   "cell_type": "code",
   "execution_count": null,
   "metadata": {
    "collapsed": true
   },
   "outputs": [],
   "source": [
    "# led specscan where rssi is 1-225\n",
    "#line 114 ubertooth_control.c\n",
    "rssi = 225\n",
    "device.ctrl_transfer(0x40,34,225, 0)"
   ]
  },
  {
   "cell_type": "code",
   "execution_count": null,
   "metadata": {
    "collapsed": true
   },
   "outputs": [],
   "source": [
    "#set usrled where state is 0-1\n",
    "#line 127 ubertooth_control.c\n",
    "state=1\n",
    "device.ctrl_transfer(0x40,4,state, 0)"
   ]
  },
  {
   "cell_type": "code",
   "execution_count": null,
   "metadata": {
    "collapsed": true
   },
   "outputs": [],
   "source": [
    "#get usrled where state is 0-1\n",
    "#line 140 ubertooth_control.c\n",
    "state = device.ctrl_transfer(0xc0,3,0, 0,1)\n",
    "state = struct.unpack('b',state)[0]"
   ]
  },
  {
   "cell_type": "code",
   "execution_count": null,
   "metadata": {
    "collapsed": true
   },
   "outputs": [],
   "source": [
    "#set rxled where state is 0-1\n",
    "#line 154 ubertooth_control.c\n",
    "state=0\n",
    "device.ctrl_transfer(0x40,6,state, 0)"
   ]
  },
  {
   "cell_type": "code",
   "execution_count": null,
   "metadata": {
    "collapsed": true
   },
   "outputs": [],
   "source": [
    "#get rxled where state is 0-1\n",
    "#line 167 ubertooth_control.c\n",
    "state = device.ctrl_transfer(0xc0,5,0, 0,1)\n",
    "state = struct.unpack('b',state)[0]"
   ]
  },
  {
   "cell_type": "code",
   "execution_count": null,
   "metadata": {
    "collapsed": true
   },
   "outputs": [],
   "source": [
    "#set txled where state is 0-1\n",
    "#line 181 ubertooth_control.c\n",
    "state=0\n",
    "device.ctrl_transfer(0x40,8,state, 0)"
   ]
  },
  {
   "cell_type": "code",
   "execution_count": null,
   "metadata": {
    "collapsed": true
   },
   "outputs": [],
   "source": [
    "#get txled where state is 0-1\n",
    "#line 194 ubertooth_control.c\n",
    "state = device.ctrl_transfer(0xc0,7,0, 0,1)\n",
    "state = struct.unpack('b',state)[0]"
   ]
  },
  {
   "cell_type": "code",
   "execution_count": null,
   "metadata": {
    "collapsed": true
   },
   "outputs": [],
   "source": [
    "#get modulation where modulation is 0-2 where 0=BTBR 1=BTLE 2=80211_FHSS\n",
    "#line 208 ubertooth_control.c\n",
    "modulation = device.ctrl_transfer(0xc0,22,0, 0,1)\n",
    "modulation = struct.unpack('b',modulation)[0]"
   ]
  },
  {
   "cell_type": "code",
   "execution_count": null,
   "metadata": {
    "collapsed": true
   },
   "outputs": [],
   "source": [
    "#get channel where channel is 0-78\n",
    "#line 223 ubertooth_control.c\n",
    "channel = device.ctrl_transfer(0xc0,11,0, 0,2)\n",
    "channel = struct.unpack('H',channel)[0]-2402"
   ]
  },
  {
   "cell_type": "code",
   "execution_count": null,
   "metadata": {
    "collapsed": true
   },
   "outputs": [],
   "source": [
    "#set channel where channel is 0-78\n",
    "#line 241 ubertooth_control.c\n",
    "channel=39\n",
    "device.ctrl_transfer(0x40,12,2402+channel, 0)"
   ]
  },
  {
   "cell_type": "code",
   "execution_count": null,
   "metadata": {
    "collapsed": false
   },
   "outputs": [],
   "source": [
    "# get partnum where result=0 for success and part is in hex format\n",
    "#line 257 ubertooth_control.c\n",
    "part = device.ctrl_transfer(0xc0,15,0, 0,5)\n",
    "result = struct.unpack('B',part[0:1])[0]\n",
    "part = hex(struct.unpack('<I',part[1:])[0])"
   ]
  },
  {
   "cell_type": "code",
   "execution_count": null,
   "metadata": {
    "collapsed": true
   },
   "outputs": [],
   "source": [
    "#get serial where result=0 for success\n",
    "#line 287 ubertooth_control.c\n",
    "serial = device.ctrl_transfer(0xc0,14,0, 0,17)\n",
    "result = struct.unpack('B',serial[0:1])[0]\n",
    "serial = struct.unpack('>4i',serial[1:])\n",
    "serial = ''.join([format(i,'x') for i in serial])"
   ]
  },
  {
   "cell_type": "code",
   "execution_count": null,
   "metadata": {
    "collapsed": true
   },
   "outputs": [],
   "source": [
    "#set modulation 0-2 where 0=BTBR 1=BTLE 2=80211_FHSS\n",
    "#line 303 ubertooth_control.c\n",
    "modulation=0\n",
    "device.ctrl_transfer(0x40,23,modulation, 0)"
   ]
  },
  {
   "cell_type": "code",
   "execution_count": null,
   "metadata": {
    "collapsed": true
   },
   "outputs": [],
   "source": [
    "#set isp mode (in system programing)\n",
    "#line 319 ubertooth_control.c\n",
    "device.ctrl_transfer(0x40,24,0, 0)"
   ]
  },
  {
   "cell_type": "code",
   "execution_count": null,
   "metadata": {
    "collapsed": false
   },
   "outputs": [],
   "source": [
    "#reset ubertooth \n",
    "#line 334 ubertooth_control.c\n",
    "device.ctrl_transfer(0x40,13,0, 0)"
   ]
  },
  {
   "cell_type": "code",
   "execution_count": null,
   "metadata": {
    "collapsed": true
   },
   "outputs": [],
   "source": [
    "#stop ubertooth\n",
    "#line 349 ubertooth_control.c\n",
    "device.ctrl_transfer(0x40,21,0, 0)"
   ]
  },
  {
   "cell_type": "code",
   "execution_count": null,
   "metadata": {
    "collapsed": true
   },
   "outputs": [],
   "source": [
    "#set paen where state ???\n",
    "#line 365 ubertooth_control.c\n",
    "state=-1\n",
    "device.ctrl_transfer(0x40,17,state, 0)"
   ]
  },
  {
   "cell_type": "code",
   "execution_count": null,
   "metadata": {
    "collapsed": true
   },
   "outputs": [],
   "source": [
    "#set hgm where state ???\n",
    "#line 381 ubertooth_control.c\n",
    "state=-0\n",
    "device.ctrl_transfer(0x40,19,state, 0)"
   ]
  },
  {
   "cell_type": "code",
   "execution_count": null,
   "metadata": {
    "collapsed": true
   },
   "outputs": [],
   "source": [
    "#tx test\n",
    "#line 397 ubertooth_control.c\n",
    "device.ctrl_transfer(0x40,20,0, 0)"
   ]
  },
  {
   "cell_type": "code",
   "execution_count": null,
   "metadata": {
    "collapsed": true
   },
   "outputs": [],
   "source": [
    "# flash mode\n",
    "#line 413 ubertooth_control.c\n",
    "device.ctrl_transfer(0x40,25,0, 0)"
   ]
  },
  {
   "cell_type": "code",
   "execution_count": null,
   "metadata": {
    "collapsed": true
   },
   "outputs": [],
   "source": [
    "#get palevel (power amplifier level)\n",
    "#line 427 ubertooth_control.c\n",
    "level = device.ctrl_transfer(0xc0,28,0, 0,1)\n",
    "struct.unpack('b',level)[0]"
   ]
  },
  {
   "cell_type": "code",
   "execution_count": null,
   "metadata": {
    "collapsed": true
   },
   "outputs": [],
   "source": [
    "#set palevel (power amplifier level) where level 0-7\n",
    "#line 441 ubertooth_control.c\n",
    "level=7\n",
    "device.ctrl_transfer(0x40,29,level, 0)"
   ]
  },
  {
   "cell_type": "code",
   "execution_count": null,
   "metadata": {
    "collapsed": true
   },
   "outputs": [],
   "source": [
    "#get range test results\n",
    "#NOTE THIS FUNCTIONALITY IS BROKEN IN FIRMWARE ATM\n",
    "#line 458 ubertooth_control.c\n",
    "result = device.ctrl_transfer(0xc0,32,0, 0,20)\n",
    "valid = result[0]\n",
    "request_pa = result[1]\n",
    "request_num = result[2]\n",
    "reply_pa = result[3]\n",
    "reply_num = result[4]"
   ]
  },
  {
   "cell_type": "code",
   "execution_count": null,
   "metadata": {
    "collapsed": true
   },
   "outputs": [],
   "source": [
    "#range test\n",
    "#line 484 ubertooth_control.c\n",
    "device.ctrl_transfer(0x40,31,0, 0)"
   ]
  },
  {
   "cell_type": "code",
   "execution_count": null,
   "metadata": {
    "collapsed": true
   },
   "outputs": [],
   "source": [
    "#repeater mode\n",
    "#line 501 ubertooth_control.c\n",
    "device.ctrl_transfer(0x40,30,0, 0)"
   ]
  },
  {
   "cell_type": "code",
   "execution_count": null,
   "metadata": {
    "collapsed": true
   },
   "outputs": [],
   "source": [
    "# get revision number\n",
    "#line 518 ubertooth_control.c\n",
    "#result = device.ctrl_transfer(0xc0,33,0, 0,258)"
   ]
  },
  {
   "cell_type": "code",
   "execution_count": null,
   "metadata": {
    "collapsed": true
   },
   "outputs": [],
   "source": [
    "# get compile info\n",
    "#line 547 ubertooth_control.c\n",
    "#result = device.ctrl_transfer(0xc0,55,0, 0,256)"
   ]
  },
  {
   "cell_type": "code",
   "execution_count": null,
   "metadata": {
    "collapsed": true
   },
   "outputs": [],
   "source": [
    "# get board id\n",
    "#line 570 ubertooth_control.c\n",
    "result = device.ctrl_transfer(0xc0,35,0, 0,1)\n",
    "struct.unpack('b',result)[0]"
   ]
  },
  {
   "cell_type": "code",
   "execution_count": null,
   "metadata": {
    "collapsed": true
   },
   "outputs": [],
   "source": [
    "#set squelch where level is ???\n",
    "#line 587 ubertooth_control.c\n",
    "level = 0\n",
    "device.ctrl_transfer(0x40,36,level, 0)"
   ]
  },
  {
   "cell_type": "code",
   "execution_count": null,
   "metadata": {
    "collapsed": true
   },
   "outputs": [],
   "source": [
    "#get squelch where level is default 136\n",
    "#line 587 ubertooth_control.c\n",
    "level = device.ctrl_transfer(0xc0,37,0, 0,1)\n",
    "level = struct.unpack('B',level)[0]"
   ]
  },
  {
   "cell_type": "code",
   "execution_count": null,
   "metadata": {
    "collapsed": true
   },
   "outputs": [],
   "source": [
    "#set bd addr\n",
    "#line 617 ubertooth_control.c"
   ]
  },
  {
   "cell_type": "code",
   "execution_count": null,
   "metadata": {
    "collapsed": true
   },
   "outputs": [],
   "source": [
    "# start hopping\n",
    "#line 647 ubertooth_control.c\n",
    "#THIS IS AN UBERTOOTH ASYNC COMMAND"
   ]
  },
  {
   "cell_type": "code",
   "execution_count": null,
   "metadata": {
    "collapsed": true
   },
   "outputs": [],
   "source": [
    "# set clock\n",
    "#line 669 ubertooth_control.c\n",
    "#clock = ???\n",
    "#some magic conversion\n",
    "#device.ctrl_transfer(0x40,40,clock... set args change..."
   ]
  },
  {
   "cell_type": "code",
   "execution_count": null,
   "metadata": {
    "collapsed": true
   },
   "outputs": [],
   "source": [
    "# get clock\n",
    "#line 689 ubertooth_control.c\n",
    "clock = device.ctrl_transfer(0xc0,41,0, 0,4)\n",
    "clock = struct.unpack('<I',clock)[0]"
   ]
  },
  {
   "cell_type": "code",
   "execution_count": null,
   "metadata": {
    "collapsed": true
   },
   "outputs": [],
   "source": [
    "# btle sniffing mode where num=2... wtf is num always 2???\n",
    "#line 706 ubertooth_control.c\n",
    "num = 2\n",
    "device.ctrl_transfer(0x40,42,num, 0)"
   ]
  },
  {
   "cell_type": "code",
   "execution_count": null,
   "metadata": {
    "collapsed": true
   },
   "outputs": [],
   "source": [
    "#set afm map\n",
    "##line 723 ubertooth_control.c"
   ]
  },
  {
   "cell_type": "code",
   "execution_count": null,
   "metadata": {
    "collapsed": true
   },
   "outputs": [],
   "source": [
    "#clear afm map\n",
    "##line 736 ubertooth_control.c"
   ]
  },
  {
   "cell_type": "code",
   "execution_count": null,
   "metadata": {
    "collapsed": true
   },
   "outputs": [],
   "source": [
    "#get access address\n",
    "##line 752 ubertooth_control.c"
   ]
  },
  {
   "cell_type": "code",
   "execution_count": null,
   "metadata": {
    "collapsed": true
   },
   "outputs": [],
   "source": [
    "# set access address\n",
    "##line 768 ubertooth_control.c"
   ]
  },
  {
   "cell_type": "code",
   "execution_count": null,
   "metadata": {
    "collapsed": true
   },
   "outputs": [],
   "source": [
    "# do something\n",
    "##line 788 ubertooth_control.c"
   ]
  },
  {
   "cell_type": "code",
   "execution_count": null,
   "metadata": {
    "collapsed": true
   },
   "outputs": [],
   "source": [
    "# do something reply\n",
    "##line 803 ubertooth_control.c"
   ]
  },
  {
   "cell_type": "code",
   "execution_count": null,
   "metadata": {
    "collapsed": true
   },
   "outputs": [],
   "source": [
    "# get crc verify\n",
    "##line 818 ubertooth_control.c"
   ]
  },
  {
   "cell_type": "code",
   "execution_count": null,
   "metadata": {
    "collapsed": true
   },
   "outputs": [],
   "source": [
    "# set crc verify\n",
    "##line 832 ubertooth_control.c"
   ]
  },
  {
   "cell_type": "code",
   "execution_count": null,
   "metadata": {
    "collapsed": true
   },
   "outputs": [],
   "source": [
    "# poll mode\n",
    "##line 845 ubertooth_control.c"
   ]
  },
  {
   "cell_type": "code",
   "execution_count": null,
   "metadata": {
    "collapsed": true
   },
   "outputs": [],
   "source": [
    "# btle promisc mode\n",
    "##line 858 ubertooth_control.c"
   ]
  },
  {
   "cell_type": "code",
   "execution_count": null,
   "metadata": {
    "collapsed": true
   },
   "outputs": [],
   "source": [
    "# read register\n",
    "##line 875 ubertooth_control.c"
   ]
  },
  {
   "cell_type": "code",
   "execution_count": null,
   "metadata": {
    "collapsed": true
   },
   "outputs": [],
   "source": [
    "# btle slave mode\n",
    "##line 894 ubertooth_control.c"
   ]
  },
  {
   "cell_type": "code",
   "execution_count": null,
   "metadata": {
    "collapsed": true
   },
   "outputs": [],
   "source": [
    "# btle set target\n",
    "##line 912 ubertooth_control.c"
   ]
  },
  {
   "cell_type": "code",
   "execution_count": null,
   "metadata": {
    "collapsed": true
   },
   "outputs": [],
   "source": [
    "#set jam mode where mode is 0-2 where 0 is none 1 is once and 2 is continuous ???\n",
    "##line 930 ubertooth_control.c\n",
    "mode=2\n",
    "device.ctrl_transfer(0x40,59,mode, 0)"
   ]
  },
  {
   "cell_type": "code",
   "execution_count": null,
   "metadata": {
    "collapsed": true
   },
   "outputs": [],
   "source": [
    "# ego mode\n",
    "##line 947 ubertooth_control.c"
   ]
  },
  {
   "cell_type": "code",
   "execution_count": null,
   "metadata": {
    "collapsed": true
   },
   "outputs": [],
   "source": [
    "# afh mode\n",
    "##line 964 ubertooth_control.c"
   ]
  },
  {
   "cell_type": "code",
   "execution_count": null,
   "metadata": {
    "collapsed": true
   },
   "outputs": [],
   "source": [
    "# hop mode\n",
    "##line 982 ubertooth_control.c"
   ]
  },
  {
   "cell_type": "code",
   "execution_count": null,
   "metadata": {
    "collapsed": true
   },
   "outputs": [],
   "source": [
    "# api version\n",
    "##line 994 ubertooth_control.c"
   ]
  },
  {
   "cell_type": "code",
   "execution_count": null,
   "metadata": {
    "collapsed": true
   },
   "outputs": [],
   "source": []
  },
  {
   "cell_type": "code",
   "execution_count": null,
   "metadata": {
    "collapsed": true
   },
   "outputs": [],
   "source": []
  },
  {
   "cell_type": "code",
   "execution_count": null,
   "metadata": {
    "collapsed": true
   },
   "outputs": [],
   "source": []
  }
 ],
 "metadata": {
  "kernelspec": {
   "display_name": "Python 2",
   "language": "python",
   "name": "python2"
  },
  "language_info": {
   "codemirror_mode": {
    "name": "ipython",
    "version": 2
   },
   "file_extension": ".py",
   "mimetype": "text/x-python",
   "name": "python",
   "nbconvert_exporter": "python",
   "pygments_lexer": "ipython2",
   "version": "2.7.11"
  }
 },
 "nbformat": 4,
 "nbformat_minor": 0
}
