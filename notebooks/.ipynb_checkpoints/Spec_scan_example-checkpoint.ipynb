{
 "cells": [
  {
   "cell_type": "code",
   "execution_count": 1,
   "metadata": {
    "collapsed": true
   },
   "outputs": [],
   "source": [
    "import usb.core\n",
    "import struct\n",
    "import time"
   ]
  },
  {
   "cell_type": "code",
   "execution_count": 2,
   "metadata": {
    "collapsed": true
   },
   "outputs": [],
   "source": [
    "device = usb.core.find(idVendor=0x1D50, idProduct=0x6002)\n",
    "device.default_timeout=3000\n",
    "device.set_configuration()"
   ]
  },
  {
   "cell_type": "code",
   "execution_count": 3,
   "metadata": {
    "collapsed": false
   },
   "outputs": [
    {
     "name": "stdout",
     "output_type": "stream",
     "text": [
      "1024 0\n",
      "1024 0\n",
      "1024 0\n",
      "1024 0\n",
      "1024 0\n",
      "1024 0\n",
      "1024 0\n",
      "1024 0\n",
      "1024 0\n",
      "1024 0\n"
     ]
    }
   ],
   "source": [
    "#example set and read spec scan\n",
    "low_freq = 2402\n",
    "high_freq = 2480\n",
    "device.ctrl_transfer(0x40,27,low_freq,high_freq)\n",
    "for i in range(10):\n",
    "    buffy = device.read(0x82, 64)\n",
    "    freq, rssi = struct.unpack('>Hb', buffy[:3])\n",
    "    print freq, rssi"
   ]
  },
  {
   "cell_type": "code",
   "execution_count": 4,
   "metadata": {
    "collapsed": false
   },
   "outputs": [
    {
     "data": {
      "text/plain": [
       "0"
      ]
     },
     "execution_count": 4,
     "metadata": {},
     "output_type": "execute_result"
    }
   ],
   "source": [
    "#reset ubertooth where mode -1-0 where -1 is no and 0 is yes\n",
    "mode=-1\n",
    "device.ctrl_transfer(0x40,13,mode, 0)"
   ]
  }
 ],
 "metadata": {
  "kernelspec": {
   "display_name": "Python 2",
   "language": "python",
   "name": "python2"
  },
  "language_info": {
   "codemirror_mode": {
    "name": "ipython",
    "version": 2
   },
   "file_extension": ".py",
   "mimetype": "text/x-python",
   "name": "python",
   "nbconvert_exporter": "python",
   "pygments_lexer": "ipython2",
   "version": "2.7.11"
  }
 },
 "nbformat": 4,
 "nbformat_minor": 0
}
