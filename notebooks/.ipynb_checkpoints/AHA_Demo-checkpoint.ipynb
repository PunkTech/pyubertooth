{
 "cells": [
  {
   "cell_type": "markdown",
   "metadata": {},
   "source": [
    "# Python Ubertooth Bindings\n",
    "bla bla bla bla jupyter has no spellcheck so drink when you find spelling errors\n",
    "\n",
    "https://github.com/hackgnar/pyubertooth\n",
    "\n",
    "Why not just use the provided CLI C tools and C libs?\n",
    "* My python implementation sucks and drops a lot of traffic.  Makes it good for low resource devices.\n",
    "* Easy to deploy\n",
    "* Good for prototypes\n",
    "* Access to more functionality than what is provided by CLI without the need to hammer out some C\n",
    "* Easier to integrate with other libs"
   ]
  },
  {
   "cell_type": "markdown",
   "metadata": {},
   "source": [
    "### Lib imports\n",
    "The only one that matters is \n",
    "\n",
    "> ```import Ubertooth```\n",
    "\n",
    "The ````BtbbPacket```` lib is important if you want to decode baseband data off the wire into something other than bits and bytes.  However the current code **sucks ass** and its rewrite is my main objective for revisiting this project"
   ]
  },
  {
   "cell_type": "code",
   "execution_count": null,
   "metadata": {
    "collapsed": false
   },
   "outputs": [],
   "source": [
    "import time\n",
    "import sys\n",
    "sys.path.insert(0,\"/Users/rholeman/src/pyubertooth\")\n",
    "from pyubertooth.ubertooth import Ubertooth, ubertooth_rx_to_stdout\n",
    "from pylibbtbb.bluetooth_packet import BtbbPacket\n",
    "import bluetooth"
   ]
  },
  {
   "cell_type": "markdown",
   "metadata": {},
   "source": [
    "### Create an ubertooth device to interact with\n",
    "This supports real and file based devices so you can import a dump file for post mortem analysis or testing"
   ]
  },
  {
   "cell_type": "code",
   "execution_count": null,
   "metadata": {
    "collapsed": false
   },
   "outputs": [],
   "source": [
    "u = Ubertooth()"
   ]
  },
  {
   "cell_type": "markdown",
   "metadata": {},
   "source": [
    "### Get simple information from the device\n",
    "all of this is supported from the C CLI tools"
   ]
  },
  {
   "cell_type": "code",
   "execution_count": null,
   "metadata": {
    "collapsed": false
   },
   "outputs": [],
   "source": [
    "print \"serial: %s\" % u.cmd_get_serial()\n",
    "print \"part number: %s\" % u.cmd_get_partnum()\n",
    "print \"board id: %s\" % u.cmd_get_board_id()"
   ]
  },
  {
   "cell_type": "markdown",
   "metadata": {},
   "source": [
    "### Stream raw data form the device\n",
    "This allows you to do your own deserialization of the btbb data or whatever you want to do"
   ]
  },
  {
   "cell_type": "code",
   "execution_count": null,
   "metadata": {
    "collapsed": false
   },
   "outputs": [],
   "source": [
    "for data in u.rx_stream(count=5):\n",
    "    print data\n",
    "u.cmd_stop()"
   ]
  },
  {
   "cell_type": "markdown",
   "metadata": {},
   "source": [
    "### Do the same stuff you can do from CLI but in python\n",
    "meh... not so impressive, but cool"
   ]
  },
  {
   "cell_type": "code",
   "execution_count": null,
   "metadata": {
    "collapsed": true
   },
   "outputs": [],
   "source": [
    "u.cmd_led_specan()"
   ]
  },
  {
   "cell_type": "code",
   "execution_count": null,
   "metadata": {
    "collapsed": false
   },
   "outputs": [],
   "source": [
    "u.cmd_stop()"
   ]
  },
  {
   "cell_type": "markdown",
   "metadata": {},
   "source": [
    "### Get & set core functionality on the fly\n",
    "You can kind of do this from the CLI tools, but this allows you to do shit on the fly without hacks or a C implementation"
   ]
  },
  {
   "cell_type": "code",
   "execution_count": null,
   "metadata": {
    "collapsed": false
   },
   "outputs": [],
   "source": [
    "u.cmd_get_channel()"
   ]
  },
  {
   "cell_type": "code",
   "execution_count": null,
   "metadata": {
    "collapsed": true
   },
   "outputs": [],
   "source": [
    "u.cmd_set_channel(50)"
   ]
  },
  {
   "cell_type": "markdown",
   "metadata": {},
   "source": [
    "### Get & set C only functionality on the fly\n",
    "You can do this shit from the CLI tools.  "
   ]
  },
  {
   "cell_type": "code",
   "execution_count": null,
   "metadata": {
    "collapsed": false
   },
   "outputs": [],
   "source": [
    "for i in range(10):\n",
    "    print u.cmd_get_clock()"
   ]
  },
  {
   "cell_type": "code",
   "execution_count": null,
   "metadata": {
    "collapsed": false
   },
   "outputs": [],
   "source": [
    "u.cmd_set_clock()"
   ]
  },
  {
   "cell_type": "markdown",
   "metadata": {},
   "source": [
    "### Blink lights like a boss\n",
    "because it makes us feel like we know how to program hardware"
   ]
  },
  {
   "cell_type": "code",
   "execution_count": null,
   "metadata": {
    "collapsed": true
   },
   "outputs": [],
   "source": [
    "for i in range(10):\n",
    "    time.sleep(1)\n",
    "    u.cmd_set_usrled(state=i%2)"
   ]
  },
  {
   "cell_type": "code",
   "execution_count": null,
   "metadata": {
    "collapsed": false
   },
   "outputs": [],
   "source": [
    "for i in range(100):\n",
    "    time.sleep(0.1)\n",
    "    x = u.cmd_get_clock()\n",
    "    u.cmd_set_usrled(state=x%2)\n",
    "    x = u.cmd_get_clock()\n",
    "    u.cmd_set_rxled(state=x%2)\n",
    "    x = u.cmd_get_clock()\n",
    "    u.cmd_set_txled(state=x%2)"
   ]
  },
  {
   "cell_type": "markdown",
   "metadata": {},
   "source": [
    "### Stream and deserialize bluetooth data all in python\n",
    "We can even add some different spins on this by changing settings while doing live streams.  For example, we can add  channel survey (this wasnt always available in the CLI) with the following:\n",
    "````\n",
    "channel = u.cmd_get_channel()\n",
    "channel += 1\n",
    "u.cmd_set_channel(channel % 79)\n",
    "````"
   ]
  },
  {
   "cell_type": "code",
   "execution_count": null,
   "metadata": {
    "collapsed": false
   },
   "outputs": [],
   "source": [
    "results = []\n",
    "for data in u.rx_stream():\n",
    "    #if you drank too much... add channel shit here for the cooler demo\n",
    "    pkt = BtbbPacket(data=data)\n",
    "    if pkt.LAP:\n",
    "        results.append(pkt)\n",
    "        print pkt\n",
    "        if len(results) > 10:\n",
    "            break\n",
    "u.cmd_stop()"
   ]
  },
  {
   "cell_type": "markdown",
   "metadata": {},
   "source": [
    "### Paint a pretty picture\n",
    "Because managers love this shit"
   ]
  },
  {
   "cell_type": "code",
   "execution_count": null,
   "metadata": {
    "collapsed": false
   },
   "outputs": [],
   "source": [
    "import numpy as np\n",
    "import matplotlib.pyplot as plt\n",
    "%matplotlib inline\n",
    "\n",
    "tmp = {}\n",
    "for i in results:\n",
    "    if i.LAP in tmp:\n",
    "        tmp[i.LAP] += 1\n",
    "    else:\n",
    "        tmp[i.LAP] = 1\n",
    "LAPs = tmp.keys()\n",
    "lap_count = tmp.values()\n",
    "y_pos = np.arange(len(LAPs))\n",
    "fig = plt.figure(figsize=(10, 5))\n",
    "plt.barh(y_pos, lap_count, align='center', alpha=0.4)\n",
    "plt.yticks(y_pos, LAPs)\n",
    "plt.xlabel('count')\n",
    "plt.title('who is out there?')\n",
    "plt.show()"
   ]
  },
  {
   "cell_type": "markdown",
   "metadata": {},
   "source": [
    "### Implement hybrid active/passive approaches\n",
    "**NOTE: dont do this in osx because its python bluetooth support sucks**"
   ]
  },
  {
   "cell_type": "code",
   "execution_count": null,
   "metadata": {
    "collapsed": false
   },
   "outputs": [],
   "source": [
    "u_results = list(set([i.LAP for i in results]))\n",
    "u_results"
   ]
  },
  {
   "cell_type": "code",
   "execution_count": null,
   "metadata": {
    "collapsed": false
   },
   "outputs": [],
   "source": [
    "brute_uap = [chr(x).encode(\"hex\") for x in range(256)]\n",
    "brute_uap\n",
    "for i in brute_uap:\n",
    "    address = \"0000%s%s\" % (i,u_results[0])\n",
    "    print \"trying %s\" % address\n",
    "    try:\n",
    "        results = bluetooth.find_service(address=address)\n",
    "        if results:\n",
    "            print results\n",
    "            break\n",
    "    except:\n",
    "        pass"
   ]
  },
  {
   "cell_type": "markdown",
   "metadata": {
    "collapsed": true
   },
   "source": [
    "## Upcoming Milestones\n",
    "* Finish up porting over all command functions (WIP)\n",
    "* Rewrite my pure python libbtbb lib (WIP)\n",
    "* Create Ctypes libbtbb bindings (WIP)\n",
    "* Rewrite my ubertooth scapy rx layer\n",
    "* Create an ubertooth scapy tx layer\n",
    "* Possibly port it over to ruby as well (may have already been done)"
   ]
  }
 ],
 "metadata": {
  "kernelspec": {
   "display_name": "Python 2",
   "language": "python",
   "name": "python2"
  },
  "language_info": {
   "codemirror_mode": {
    "name": "ipython",
    "version": 2
   },
   "file_extension": ".py",
   "mimetype": "text/x-python",
   "name": "python",
   "nbconvert_exporter": "python",
   "pygments_lexer": "ipython2",
   "version": "2.7.11"
  }
 },
 "nbformat": 4,
 "nbformat_minor": 0
}
