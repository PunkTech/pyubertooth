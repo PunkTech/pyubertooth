{
 "cells": [
  {
   "cell_type": "code",
   "execution_count": 205,
   "metadata": {
    "collapsed": true
   },
   "outputs": [],
   "source": [
    "import usb.core\n",
    "device = usb.core.find(idVendor=0x1D50, idProduct=0x6002)\n",
    "device.default_timeout=3000\n",
    "device.set_configuration()"
   ]
  },
  {
   "cell_type": "code",
   "execution_count": 206,
   "metadata": {
    "collapsed": false
   },
   "outputs": [
    {
     "data": {
      "text/plain": [
       "0"
      ]
     },
     "execution_count": 206,
     "metadata": {},
     "output_type": "execute_result"
    }
   ],
   "source": [
    "part = device.ctrl_transfer(0xc0,15,0, 0,5)\n",
    "struct.unpack('B',part[0:1])[0]"
   ]
  },
  {
   "cell_type": "code",
   "execution_count": 248,
   "metadata": {
    "collapsed": false
   },
   "outputs": [
    {
     "data": {
      "text/plain": [
       "'1f0906065f02545366a5654d40000f5'"
      ]
     },
     "execution_count": 248,
     "metadata": {},
     "output_type": "execute_result"
    }
   ],
   "source": [
    "serial = device.ctrl_transfer(0xc0,14,0, 0,17)\n",
    "result = struct.unpack('B',serial[0:1])[0]\n",
    "serial = struct.unpack('>4i',serial[1:])\n",
    "serial = ''.join([format(i,'x') for i in serial])\n",
    "serial"
   ]
  },
  {
   "cell_type": "code",
   "execution_count": 246,
   "metadata": {
    "collapsed": false
   },
   "outputs": [
    {
     "data": {
      "text/plain": [
       "'1f0906065f02545366a5654d40000f5'"
      ]
     },
     "execution_count": 246,
     "metadata": {},
     "output_type": "execute_result"
    }
   ],
   "source": [
    "result = struct.unpack('B',serial[0:1])[0]\n",
    "#struct.unpack('<I',serial[1:])[0]\n",
    "foo = struct.unpack('>4i',serial[1:])\n",
    "foo = [format(i,'x') for i in foo]\n",
    "''.join(foo)\n",
    "#''.join([hex(i) for i in serial[1:]])\n",
    "#struct.unpack('>4i',serial[1:])"
   ]
  },
  {
   "cell_type": "code",
   "execution_count": 204,
   "metadata": {
    "collapsed": false
   },
   "outputs": [
    {
     "data": {
      "text/plain": [
       "'0x25011723'"
      ]
     },
     "execution_count": 204,
     "metadata": {},
     "output_type": "execute_result"
    }
   ],
   "source": [
    "hex(struct.unpack('<I',part[1:])[0])"
   ]
  },
  {
   "cell_type": "code",
   "execution_count": 184,
   "metadata": {
    "collapsed": false
   },
   "outputs": [
    {
     "data": {
      "text/plain": [
       "'0x25011723'"
      ]
     },
     "execution_count": 184,
     "metadata": {},
     "output_type": "execute_result"
    }
   ],
   "source": [
    "foo = struct.unpack('I',part[1:])\n",
    "hex(foo[0])"
   ]
  },
  {
   "cell_type": "code",
   "execution_count": 145,
   "metadata": {
    "collapsed": false
   },
   "outputs": [
    {
     "data": {
      "text/plain": [
       "int"
      ]
     },
     "execution_count": 145,
     "metadata": {},
     "output_type": "execute_result"
    }
   ],
   "source": [
    "type(part[1]<<8)"
   ]
  },
  {
   "cell_type": "code",
   "execution_count": 142,
   "metadata": {
    "collapsed": false
   },
   "outputs": [
    {
     "data": {
      "text/plain": [
       "(620828451,)"
      ]
     },
     "execution_count": 142,
     "metadata": {},
     "output_type": "execute_result"
    }
   ],
   "source": [
    "foo = part[1] | (part[2] << 8) | (part[3] << 16) |(part[4] << 24)\n",
    "bar = struct.pack(\"i\", foo)\n",
    "struct.unpack('I', bar)"
   ]
  },
  {
   "cell_type": "code",
   "execution_count": 151,
   "metadata": {
    "collapsed": false
   },
   "outputs": [
    {
     "data": {
      "text/plain": [
       "0"
      ]
     },
     "execution_count": 151,
     "metadata": {},
     "output_type": "execute_result"
    }
   ],
   "source": [
    "#set channel where channel is 0-78\n",
    "channel=32\n",
    "device.ctrl_transfer(0x40,12,2402+channel, 0)"
   ]
  },
  {
   "cell_type": "code",
   "execution_count": 152,
   "metadata": {
    "collapsed": false
   },
   "outputs": [
    {
     "data": {
      "text/plain": [
       "array('B', [130, 9])"
      ]
     },
     "execution_count": 152,
     "metadata": {},
     "output_type": "execute_result"
    }
   ],
   "source": [
    "#get channel where channel is 0-78\n",
    "#line 223 ubertooth_control.c\n",
    "channel = device.ctrl_transfer(0xc0,11,0, 0,2)\n",
    "#channel = struct.unpack('H',channel)[0]-2402\n",
    "channel"
   ]
  },
  {
   "cell_type": "code",
   "execution_count": 49,
   "metadata": {
    "collapsed": false
   },
   "outputs": [
    {
     "data": {
      "text/plain": [
       "0"
      ]
     },
     "execution_count": 49,
     "metadata": {},
     "output_type": "execute_result"
    }
   ],
   "source": [
    "modulation=2\n",
    "device.ctrl_transfer(0x40,23,modulation, 0)"
   ]
  },
  {
   "cell_type": "code",
   "execution_count": 50,
   "metadata": {
    "collapsed": true
   },
   "outputs": [],
   "source": [
    "#get modulation where modulation is 0-2 where 0=BTBR 1=BTLE 2=80211_FHSS\n",
    "#line 208 ubertooth_control.c\n",
    "modulation = device.ctrl_transfer(0xc0,22,0, 0,1)\n"
   ]
  },
  {
   "cell_type": "code",
   "execution_count": 51,
   "metadata": {
    "collapsed": false
   },
   "outputs": [
    {
     "data": {
      "text/plain": [
       "2"
      ]
     },
     "execution_count": 51,
     "metadata": {},
     "output_type": "execute_result"
    }
   ],
   "source": [
    "modulation = struct.unpack('b',modulation)[0]\n",
    "modulation"
   ]
  },
  {
   "cell_type": "code",
   "execution_count": 29,
   "metadata": {
    "collapsed": false
   },
   "outputs": [
    {
     "data": {
      "text/plain": [
       "0"
      ]
     },
     "execution_count": 29,
     "metadata": {},
     "output_type": "execute_result"
    }
   ],
   "source": [
    "#set usrled where state is 0-1\n",
    "#line 127 ubertooth_control.c\n",
    "#where 0x40 is CTRL_OUT\n",
    "state=1\n",
    "device.ctrl_transfer(0x40,4,state, 0)"
   ]
  },
  {
   "cell_type": "code",
   "execution_count": 44,
   "metadata": {
    "collapsed": false
   },
   "outputs": [],
   "source": [
    "foo = device.ctrl_transfer(0xc0,3,0, 0,1)"
   ]
  },
  {
   "cell_type": "code",
   "execution_count": 24,
   "metadata": {
    "collapsed": false
   },
   "outputs": [],
   "source": [
    "import struct"
   ]
  },
  {
   "cell_type": "code",
   "execution_count": 26,
   "metadata": {
    "collapsed": false
   },
   "outputs": [
    {
     "data": {
      "text/plain": [
       "array('B', [0])"
      ]
     },
     "execution_count": 26,
     "metadata": {},
     "output_type": "execute_result"
    }
   ],
   "source": [
    "foo"
   ]
  },
  {
   "cell_type": "code",
   "execution_count": 42,
   "metadata": {
    "collapsed": false
   },
   "outputs": [
    {
     "data": {
      "text/plain": [
       "1"
      ]
     },
     "execution_count": 42,
     "metadata": {},
     "output_type": "execute_result"
    }
   ],
   "source": [
    "struct.unpack('b',foo)[0]"
   ]
  },
  {
   "cell_type": "code",
   "execution_count": 8,
   "metadata": {
    "collapsed": false
   },
   "outputs": [
    {
     "name": "stdout",
     "output_type": "stream",
     "text": [
      "0x40\n"
     ]
    }
   ],
   "source": [
    "# { LIBUSB_ENDPOINT_IN = 0x80, LIBUSB_ENDPOINT_OUT = 0x00 }\n",
    "# LIBUSB_REQUEST_TYPE_VENDOR = (0x02 << 5),\n",
    "#CTRL_IN (LIBUSB_REQUEST_TYPE_VENDOR | LIBUSB_ENDPOINT_IN) 0xc0\n",
    "#CTRL_OUT (LIBUSB_REQUEST_TYPE_VENDOR | LIBUSB_ENDPOINT_OUT) 0x40\n",
    "print hex(0x02 << 5 | 0x00)"
   ]
  },
  {
   "cell_type": "markdown",
   "metadata": {},
   "source": [
    "In [2]: usb.core.Device.ctrl_transfer?\n",
    "Signature: usb.core.Device.ctrl_transfer(self, bmRequestType, bRequest, wValue=0, wIndex=0, data_or_wLength=None, timeout=None)\n",
    "Docstring:\n",
    "Do a control transfer on the endpoint 0.\n",
    "\n",
    "This method is used to issue a control transfer over the endpoint 0\n",
    "(endpoint 0 is required to always be a control endpoint).\n",
    "\n",
    "The parameters bmRequestType, bRequest, wValue and wIndex are the same\n",
    "of the USB Standard Control Request format.\n",
    "\n",
    "Control requests may or may not have a data payload to write/read.\n",
    "In cases which it has, the direction bit of the bmRequestType\n",
    "field is used to infer the desired request direction. For\n",
    "host to device requests (OUT), data_or_wLength parameter is\n",
    "the data payload to send, and it must be a sequence type convertible\n",
    "to an array object. In this case, the return value is the number\n",
    "of bytes written in the data payload. For device to host requests\n",
    "(IN), data_or_wLength is either the wLength parameter of the control\n",
    "request specifying the number of bytes to read in data payload, and\n",
    "the return value is an array object with data read, or an array\n",
    "object which the data will be read to, and the return value is the\n",
    "number of bytes read.\n",
    "File:      /usr/local/lib/python2.7/site-packages/usb/core.py\n",
    "Type:      instancemethod"
   ]
  },
  {
   "cell_type": "markdown",
   "metadata": {},
   "source": [
    "int libusb_control_transfer\t(\tlibusb_device_handle * \tdev_handle,\n",
    "uint8_t \tbmRequestType,\n",
    "uint8_t \tbRequest,\n",
    "uint16_t \twValue,\n",
    "uint16_t \twIndex,\n",
    "unsigned char * \tdata,\n",
    "uint16_t \twLength,\n",
    "unsigned int \ttimeout \n",
    ")\t\t\n",
    "Perform a USB control transfer.\n",
    "\n",
    "The direction of the transfer is inferred from the bmRequestType field of the setup packet.\n",
    "\n",
    "The wValue, wIndex and wLength fields values should be given in host-endian byte order.\n",
    "\n",
    "Parameters\n",
    "dev_handle\ta handle for the device to communicate with\n",
    "bmRequestType\tthe request type field for the setup packet\n",
    "bRequest\tthe request field for the setup packet\n",
    "wValue\tthe value field for the setup packet\n",
    "wIndex\tthe index field for the setup packet\n",
    "data\ta suitably-sized data buffer for either input or output (depending on direction bits within bmRequestType)\n",
    "wLength\tthe length field for the setup packet. The data buffer should be at least this size.\n",
    "timeout\ttimeout (in millseconds) that this function should wait before giving up due to no response being received. For an unlimited timeout, use value 0.\n",
    "Returns\n",
    "on success, the number of bytes actually transferred\n",
    "LIBUSB_ERROR_TIMEOUT if the transfer timed out\n",
    "LIBUSB_ERROR_PIPE if the control request was not supported by the device\n",
    "LIBUSB_ERROR_NO_DEVICE if the device has been disconnected\n",
    "another LIBUSB_ERROR code on other failures"
   ]
  }
 ],
 "metadata": {
  "kernelspec": {
   "display_name": "Python 2",
   "language": "python",
   "name": "python2"
  },
  "language_info": {
   "codemirror_mode": {
    "name": "ipython",
    "version": 2
   },
   "file_extension": ".py",
   "mimetype": "text/x-python",
   "name": "python",
   "nbconvert_exporter": "python",
   "pygments_lexer": "ipython2",
   "version": "2.7.11"
  }
 },
 "nbformat": 4,
 "nbformat_minor": 0
}
